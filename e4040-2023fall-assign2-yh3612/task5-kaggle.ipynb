{
 "cells": [
  {
   "cell_type": "markdown",
   "metadata": {
    "jp-MarkdownHeadingCollapsed": true,
    "tags": []
   },
   "source": [
    "## Columbia University\n",
    "### ECBM E4040 Neural Networks and Deep Learning. Fall 2023."
   ]
  },
  {
   "cell_type": "markdown",
   "metadata": {
    "tags": []
   },
   "source": [
    "# ECBM E4040 - Assignment 2- Task 5: Kaggle Open-ended Competition\n",
    "\n",
    "Kaggle is a platform for predictive modelling and analytics competitions in which companies and researchers post data and statisticians and data miners compete to produce the best models for predicting and describing the data.\n",
    "\n",
    "If you don't have a Kaggle account, feel free to join at [www.kaggle.com](https://www.kaggle.com). To let the CAs do the grading more conveniently, please __use Lionmail to join Kaggle__ and __use UNI as your username__.\n",
    "\n",
    "The competition is located here: https://www.kaggle.com/t/b70c5e10a0be487f937f2539dc5c3d04\n",
    "\n",
    "You can find detailed description about this in-class competition on the website above. Please read carefully and follow the instructions."
   ]
  },
  {
   "cell_type": "markdown",
   "metadata": {},
   "source": [
    "<span style=\"color:red\">__TODO__:</span>\n",
    "\n",
    "Train a custom model for the bottle dataset classification problem.\n",
    "- You are free to use any methods taught in the class or found by yourself on the Internet (ALWAYS provide reference to the source).\n",
    "- General training methods include dropout, batch normalization, early stopping, L1/L2 regularization.\n",
    "\n",
    "You are given the test set to generate your predictions\n",
    "- The splitting is 70% public + 30% private, but you don't know which ones are public/private.\n",
    "- Students should achieve an accuracy on the public test set of at least 70%. Two points will be deducted for each 1% below 70% accuracy threshold (i.e. 65% accuracy will have 10 points deducted).\n",
    "\n",
    "The accuracy will be shown on the public leaderboard once you submit your prediction .csv file. The private leaderboard will be released after the competition. The final ranking is based on the private leaderboard results, not the public leaderboard.\n",
    "\n",
    "<span style=\"color:red\">**Note**:</span>\n",
    "* Report your results on the Kaggle, for comparison with other students' optimal results (you can do this several times). \n",
    "* Save your best model.\n",
    "\n",
    "<span style=\"color:red\">**Hint**:</span> You can start from what you have implemented in task 4. Students are allowed to use pretrained networks, and utilize transfer learning. "
   ]
  },
  {
   "cell_type": "markdown",
   "metadata": {},
   "source": [
    "### HW Submission Details:\n",
    "\n",
    "There are two components to reporting the results of this task: \n",
    "\n",
    "**(A) Submission (up to 20 submissions each day) of the .csv prediction file through the Kaggle platform**. You should start doing this __VERY early__, so that students can compare their work as they are making progress with model optimization.\n",
    "\n",
    "**(B) Submitting your best CNN model through Github Classroom repo.**\n",
    "\n",
    "**Note** that assignments are submitted through github classroom only. All code for training your kaggle model should be done in this task 5 jupyter notebook, or in a user defined module (.py file) that is imported for use in the jupyter notebook."
   ]
  },
  {
   "cell_type": "markdown",
   "metadata": {},
   "source": [
    "### Useful Information: \n",
    "\n",
    "1. Unzip zip files in GCP or acquire administrator permission for other application installation. When you upload your dataset to your vm instances, you may want to unzip your files. However, unzip command is not built in. To use `sudo apt install unzip` or for future applications installation, you need to: \n",
    "  - Login as `ecbm4040` as is exampled [in the tutorial](https://ecbme4040.github.io/2023_fall/EnvSetup/gcp.html#2_Connect_to_your_instance_22)\n",
    "  - Run `sudo apt install unzip`\n",
    "  - You might experience different errors on this step, e.g.\n",
    "    - Permission Denied: Command `apt(-get)` will only run with `sudo` or under `root`. Don't forget the `sudo` prefix or switch to root by `sudo su`.\n",
    "    - Require password: Change Linux username **before** SSH login as is exampled in the tutorial. If you do `su ecbm4040` after SSH login with other users, you will need password to use `sudo`.\n",
    "    - Resource Temporarily Unavailable: Restart the VM or kill the processes occupying the resource. Google for solutions or refer to [this link](https://itsfoss.com/could-not-get-lock-error/) for details.\n",
    "    - Others: Google for solutions or contact TAs.\n",
    "\n",
    "2. If you meet kernel crash (or the running never ends), you might consider using a larger memory CPU.Especially if you include large network structure like VGG, 15GB memory or more CPU is recommended\n",
    "\n",
    "3. Some python libraries that you might need to install first include pandas, scikit-learn. there are **2 OPTIONS** that you can use to install them:\n",
    "  - In the envTF24 environment in linux interface, type: `pip install [PACKAGE]` \n",
    "  - In the jupyter notebook (i.e. this file), type `!pip install [PACKAGE]`. Sometimes you need to restart the virtual environment or even the instance to get these packages functional.\n",
    "\n",
    "4. You might need extra pip libraries to handle dataset, include network, etc. You can follow step 3 to install them."
   ]
  },
  {
   "cell_type": "markdown",
   "metadata": {},
   "source": [
    "### <span style=\"color:red\">__Submission:__</span>\n",
    "\n",
    "(i) In your Assignment 2 submission folder, create a subfolder called __KaggleModel__. Save your best model using `model.save()`. This will generate a `saved_model.pb` file, a folder called `variables`, and a folder called `checkpoints` all inside the __KaggleModel__ folder. Only upload your best model. \n",
    "\n",
    "(ii) <span style=\"color:red\">If your saved model exceeds 100 MB, \".gitignore\" it or you will get an error when pushing.</span> **Upload the model to Google Drive and explicitly provide the link under the 'Save your best model' cell.**\n",
    "\n",
    "(iii) Remember to delete any intermediate results, we only want your best model. Do not upload any data files. The instructors will rerun the uploaded best model and verify against the score which you reported on the Kaggle.\n",
    "\n",
    "**The top 10 final submissions of the Kaggle competition will receive up to 10 bonus points proportional to the private test accuracy.**"
   ]
  },
  {
   "cell_type": "markdown",
   "metadata": {},
   "source": [
    "## Load Data"
   ]
  },
  {
   "cell_type": "markdown",
   "metadata": {},
   "source": [
    "There are two options to load Kaggle data.\n",
    "\n",
    "**Option 1**:\n",
    "1. Manually download the data from kaggle.\n",
    "2. Upload the data to GCP via Jupyter or SSH.\n",
    "3. Unzip the files using command `unzip` or a Python script (you may use the [`zipfile`](https://docs.python.org/3/library/zipfile.html) package).\n",
    "4. Move the dataset to your favorite location for the following tasks. Be careful not to upload them to Github.\n",
    "\n",
    "**Option 2**:\n",
    "1. Login as `ecbm4040`.\n",
    "2. Upload your API key to \"**~/.kaggle/kaggle.json**\" folder following the instructions in https://github.com/Kaggle/kaggle-api#api-credentials.\n",
    "3. Run in console:\n",
    "    ```\n",
    "    chmod 600 ~/.kaggle/kaggle.json\n",
    "    pip install kaggle\n",
    "    kaggle competitions download -c ecbm4040-fall2023\n",
    "    sudo apt install unzip\n",
    "    unzip ecbm4040-fall2023.zip\n",
    "    ```\n",
    "4. Now the data should be under your current directory (\"**/home/ecbm4040/**\" by default).\n",
    "5. Move the dataset to your favorite location for the following tasks. Be careful not to upload them to Github."
   ]
  },
  {
   "cell_type": "code",
   "execution_count": 1,
   "metadata": {
    "tags": []
   },
   "outputs": [
    {
     "name": "stdout",
     "output_type": "stream",
     "text": [
      "Reading folder 1\n",
      "Reading folder 3\n",
      "Reading folder 0\n",
      "Reading folder 2\n",
      "Reading folder 4\n",
      "Reading Test Images\n",
      "Training data shape:  (15000, 128, 128, 3)\n",
      "Training labels shape:  (15000,)\n",
      "Test data shape:  (3500, 128, 128, 3)\n"
     ]
    }
   ],
   "source": [
    "#Generate dataset\n",
    "import os\n",
    "import pandas as pd\n",
    "import numpy as np\n",
    "from PIL import Image\n",
    "\n",
    "root = \"./assignment2-task5/\" #TODO: Enter your path\n",
    "\n",
    "#Load Training images and labels\n",
    "train_directory = root + \"kaggle_train_128/train_128\"\n",
    "image_list=[]\n",
    "label_list=[]\n",
    "for sub_dir in os.listdir(train_directory):\n",
    "    if sub_dir == \".DS_Store\":\n",
    "        continue\n",
    "    print(\"Reading folder {}\".format(sub_dir))\n",
    "    sub_dir_name=os.path.join(train_directory,sub_dir)\n",
    "    for file in os.listdir(sub_dir_name):\n",
    "        filename = os.fsdecode(file)\n",
    "        if filename.endswith(\".jpg\") or filename.endswith(\".png\"):\n",
    "            image_list.append(np.array(Image.open(os.path.join(sub_dir_name,file))))\n",
    "            label_list.append(int(sub_dir))\n",
    "X_train = np.array(image_list)\n",
    "y_train = np.array(label_list)\n",
    "\n",
    "#Load Test images\n",
    "test_directory = root + \"kaggle_test_128/test_128\"\n",
    "test_image_list=[]\n",
    "test_df = pd.DataFrame([], columns=['Id', 'X'])\n",
    "print(\"Reading Test Images\")\n",
    "for file in os.listdir(test_directory):\n",
    "    filename = os.fsdecode(file)\n",
    "    if filename.endswith(\".jpg\") or filename.endswith(\".png\"):\n",
    "        test_df = test_df.append({\n",
    "            'Id': filename,\n",
    "            'X': np.array(Image.open(os.path.join(test_directory,file)))\n",
    "        }, ignore_index=True)\n",
    "\n",
    "test_df['s'] = [int(x.split('.')[0]) for x in test_df['Id']]\n",
    "test_df = test_df.sort_values(by=['s'])\n",
    "test_df = test_df.drop(columns=['s'])\n",
    "X_test = np.stack(test_df['X'])\n",
    "\n",
    "print('Training data shape: ', X_train.shape)\n",
    "print('Training labels shape: ', y_train.shape)\n",
    "print('Test data shape: ', X_test.shape)"
   ]
  },
  {
   "cell_type": "markdown",
   "metadata": {},
   "source": [
    "## Build and Train Your Model Here"
   ]
  },
  {
   "cell_type": "code",
   "execution_count": 3,
   "metadata": {},
   "outputs": [
    {
     "name": "stdout",
     "output_type": "stream",
     "text": [
      "X_train: (13500, 128, 128, 3)\n",
      "y_train: (13500,)\n",
      "X_val: (1500, 128, 128, 3)\n",
      "y_val: (1500,)\n"
     ]
    },
    {
     "name": "stderr",
     "output_type": "stream",
     "text": [
      "WARNING:absl:At this time, the v2.11+ optimizer `tf.keras.optimizers.Adam` runs slowly on M1/M2 Macs, please use the legacy Keras optimizer instead, located at `tf.keras.optimizers.legacy.Adam`.\n",
      "WARNING:absl:There is a known slowdown when using v2.11+ Keras optimizers on M1/M2 Macs. Falling back to the legacy Keras optimizer, i.e., `tf.keras.optimizers.legacy.Adam`.\n"
     ]
    },
    {
     "name": "stdout",
     "output_type": "stream",
     "text": [
      "X_test: (3500, 128, 128, 3)\n",
      "Building my LeNet. Parameters: \n",
      "conv_featmap=[32, 32, 32]\n",
      "fc_units=[84, 84]\n",
      "conv_kernel_size=[5, 5, 5]\n",
      "pooling_size=[2, 2, 2]\n",
      "l2_norm=0.0081\n",
      "seed=114514\n",
      "learning_rate=0.0081\n",
      "5/5 [==============================] - 2s 356ms/step - loss: 1.2733 - accuracy: 0.4887\n",
      "5/5 [==============================] - 2s 354ms/step - loss: 1.1716 - accuracy: 0.5460\n",
      "5/5 [==============================] - 2s 354ms/step - loss: 1.3530 - accuracy: 0.4867\n",
      "5/5 [==============================] - 2s 355ms/step - loss: 1.1210 - accuracy: 0.5613\n",
      "5/5 [==============================] - 2s 356ms/step - loss: 1.0669 - accuracy: 0.5893\n",
      "5/5 [==============================] - 2s 357ms/step - loss: 1.0965 - accuracy: 0.6020\n",
      "5/5 [==============================] - 2s 354ms/step - loss: 1.0491 - accuracy: 0.6227\n",
      "5/5 [==============================] - 2s 358ms/step - loss: 0.9785 - accuracy: 0.6587\n",
      "5/5 [==============================] - 2s 355ms/step - loss: 0.9035 - accuracy: 0.6740\n",
      "5/5 [==============================] - 2s 355ms/step - loss: 0.7556 - accuracy: 0.7307\n",
      "5/5 [==============================] - 2s 357ms/step - loss: 0.7195 - accuracy: 0.7600\n",
      "5/5 [==============================] - 2s 369ms/step - loss: 0.7246 - accuracy: 0.7640\n",
      "5/5 [==============================] - 2s 352ms/step - loss: 0.7134 - accuracy: 0.7733\n",
      "5/5 [==============================] - 2s 357ms/step - loss: 0.7596 - accuracy: 0.7600\n",
      "5/5 [==============================] - 2s 358ms/step - loss: 0.7356 - accuracy: 0.7800\n",
      "5/5 [==============================] - 2s 352ms/step - loss: 0.8172 - accuracy: 0.7627\n",
      "5/5 [==============================] - 2s 354ms/step - loss: 0.8309 - accuracy: 0.7660\n",
      "5/5 [==============================] - 2s 353ms/step - loss: 0.8388 - accuracy: 0.7780\n",
      "5/5 [==============================] - 2s 361ms/step - loss: 0.9727 - accuracy: 0.7620\n",
      "5/5 [==============================] - 2s 353ms/step - loss: 1.0096 - accuracy: 0.7653\n",
      "Training ends. Best valid accuracy is 77.99999713897705. Model named task5_1698209835.\n"
     ]
    }
   ],
   "source": [
    "# YOUR CODE HERE\n",
    "# test\n",
    "import os\n",
    "import numpy as np\n",
    "import tensorflow as tf\n",
    "# from utils.image_generator import ImageGenerator\n",
    "from utils.neuralnets.cnn.my_model_LeNet import my_training_task5\n",
    "import matplotlib.image as mpimg\n",
    "\n",
    "train_dir = './assignment2-task5/kaggle_train_128/train_128'\n",
    "test_dir = './assignment2-task5/kaggle_test_128/test_128'\n",
    "\n",
    "train_samples_per_class = 3000\n",
    "num_classes = 5\n",
    "val_size = 1500\n",
    "\n",
    "X_train = np.zeros([num_classes * train_samples_per_class, 128, 128, 3])\n",
    "y_train = np.zeros(num_classes * train_samples_per_class)\n",
    "\n",
    "for i in range(train_samples_per_class):\n",
    "    for j in range(num_classes):\n",
    "        img_name = '{:05d}.png'.format(i + j * train_samples_per_class)\n",
    "        img_path = os.path.join(train_dir, str(j), img_name)\n",
    "        X_train[i*num_classes + j] = mpimg.imread(img_path)\n",
    "        y_train[i*num_classes + j] = j\n",
    "\n",
    "X_val = X_train[-val_size:]\n",
    "y_val = y_train[-val_size:]\n",
    "\n",
    "X_train = X_train[:-val_size]\n",
    "y_train = y_train[:-val_size]\n",
    "\n",
    "print('X_train:', X_train.shape)\n",
    "print('y_train:', y_train.shape)\n",
    "print('X_val:', X_val.shape)\n",
    "print('y_val:', y_val.shape)\n",
    "\n",
    "X_test = np.zeros([3500, 128, 128, 3])\n",
    "\n",
    "for i in range(3500):\n",
    "    img_name = '{:05d}.png'.format(i)\n",
    "    img_path = os.path.join(test_dir, img_name)\n",
    "    X_test[i] = mpimg.imread(img_path)\n",
    "\n",
    "print('X_test:', X_test.shape)\n",
    "\n",
    "model = my_training_task5(X_train, y_train, X_val, y_val,\n",
    "                conv_featmap=[32, 32, 32],\n",
    "                fc_units=[84, 84],\n",
    "                conv_kernel_size=[5, 5, 5],\n",
    "                pooling_size=[2, 2, 2],\n",
    "                l2_norm=0.0081,\n",
    "                seed=114514,\n",
    "                learning_rate=0.0081,\n",
    "                epoch=20,\n",
    "                batch_size=320,\n",
    "                verbose=False,\n",
    "                pre_trained_model=None)\n"
   ]
  },
  {
   "cell_type": "code",
   "execution_count": 7,
   "metadata": {},
   "outputs": [
    {
     "name": "stdout",
     "output_type": "stream",
     "text": [
      "X_train: (13500, 128, 128, 3)\n",
      "y_train: (13500,)\n",
      "X_val: (1500, 128, 128, 3)\n",
      "y_val: (1500,)\n"
     ]
    },
    {
     "name": "stderr",
     "output_type": "stream",
     "text": [
      "WARNING:absl:At this time, the v2.11+ optimizer `tf.keras.optimizers.Adam` runs slowly on M1/M2 Macs, please use the legacy Keras optimizer instead, located at `tf.keras.optimizers.legacy.Adam`.\n",
      "WARNING:absl:There is a known slowdown when using v2.11+ Keras optimizers on M1/M2 Macs. Falling back to the legacy Keras optimizer, i.e., `tf.keras.optimizers.legacy.Adam`.\n"
     ]
    },
    {
     "name": "stdout",
     "output_type": "stream",
     "text": [
      "X_test: (3500, 128, 128, 3)\n",
      "Building my LeNet. Parameters: \n",
      "conv_featmap=[32, 32, 32]\n",
      "fc_units=[84, 84]\n",
      "conv_kernel_size=[5, 5, 5]\n",
      "pooling_size=[2, 2, 2]\n",
      "l2_norm=0.0075\n",
      "seed=233\n",
      "learning_rate=0.0075\n",
      "5/5 [==============================] - 2s 370ms/step - loss: 1.6095 - accuracy: 0.2067\n",
      "5/5 [==============================] - 2s 364ms/step - loss: 1.6070 - accuracy: 0.2167\n",
      "5/5 [==============================] - 2s 368ms/step - loss: 1.5885 - accuracy: 0.2967\n",
      "5/5 [==============================] - 2s 366ms/step - loss: 1.1084 - accuracy: 0.5620\n",
      "5/5 [==============================] - 2s 365ms/step - loss: 0.9424 - accuracy: 0.6600\n",
      "5/5 [==============================] - 2s 399ms/step - loss: 0.8968 - accuracy: 0.6827\n",
      "5/5 [==============================] - 2s 364ms/step - loss: 0.8507 - accuracy: 0.7007\n",
      "5/5 [==============================] - 2s 366ms/step - loss: 0.8066 - accuracy: 0.7307\n",
      "5/5 [==============================] - 2s 366ms/step - loss: 0.7903 - accuracy: 0.7373\n",
      "5/5 [==============================] - 2s 370ms/step - loss: 0.8015 - accuracy: 0.7467\n",
      "5/5 [==============================] - 2s 363ms/step - loss: 0.7557 - accuracy: 0.7560\n",
      "5/5 [==============================] - 2s 369ms/step - loss: 0.7728 - accuracy: 0.7473\n",
      "5/5 [==============================] - 2s 366ms/step - loss: 0.7894 - accuracy: 0.7513\n",
      "5/5 [==============================] - 2s 368ms/step - loss: 0.8227 - accuracy: 0.7520\n",
      "5/5 [==============================] - 2s 377ms/step - loss: 0.7994 - accuracy: 0.7540\n",
      "5/5 [==============================] - 2s 368ms/step - loss: 0.8414 - accuracy: 0.7527\n",
      "5/5 [==============================] - 2s 365ms/step - loss: 0.9382 - accuracy: 0.7533\n",
      "5/5 [==============================] - 2s 363ms/step - loss: 0.8364 - accuracy: 0.7573\n",
      "5/5 [==============================] - 2s 359ms/step - loss: 0.8756 - accuracy: 0.7540\n",
      "5/5 [==============================] - 2s 360ms/step - loss: 0.9510 - accuracy: 0.7547\n",
      "110/110 [==============================] - 4s 38ms/step\n",
      "Predicted labels for test images: [1 1 2 ... 3 3 4]\n"
     ]
    }
   ],
   "source": [
    "# YOUR CODE HERE\n",
    "# Final Edition!\n",
    "import os\n",
    "import numpy as np\n",
    "import tensorflow as tf\n",
    "# from utils.image_generator import ImageGenerator\n",
    "from utils.neuralnets.cnn.my_model_LeNet import my_training_task5\n",
    "import matplotlib.image as mpimg\n",
    "\n",
    "train_dir = './assignment2-task5/kaggle_train_128/train_128'\n",
    "test_dir = './assignment2-task5/kaggle_test_128/test_128'\n",
    "\n",
    "train_samples_per_class = 3000\n",
    "num_classes = 5\n",
    "val_size = 1500\n",
    "\n",
    "X_train = np.zeros([num_classes * train_samples_per_class, 128, 128, 3])\n",
    "y_train = np.zeros(num_classes * train_samples_per_class)\n",
    "\n",
    "for i in range(train_samples_per_class):\n",
    "    for j in range(num_classes):\n",
    "        img_name = '{:05d}.png'.format(i + j * train_samples_per_class)\n",
    "        img_path = os.path.join(train_dir, str(j), img_name)\n",
    "        X_train[i*num_classes + j] = mpimg.imread(img_path)\n",
    "        y_train[i*num_classes + j] = j\n",
    "\n",
    "X_val = X_train[-val_size:]\n",
    "y_val = y_train[-val_size:]\n",
    "\n",
    "X_train = X_train[:-val_size]\n",
    "y_train = y_train[:-val_size]\n",
    "\n",
    "print('X_train:', X_train.shape)\n",
    "print('y_train:', y_train.shape)\n",
    "print('X_val:', X_val.shape)\n",
    "print('y_val:', y_val.shape)\n",
    "\n",
    "X_test = np.zeros([3500, 128, 128, 3])\n",
    "\n",
    "for i in range(3500):\n",
    "    img_name = '{:05d}.png'.format(i)\n",
    "    img_path = os.path.join(test_dir, img_name)\n",
    "    X_test[i] = mpimg.imread(img_path)\n",
    "\n",
    "print('X_test:', X_test.shape)\n",
    "\n",
    "model = my_training_task5(X_train, y_train, X_val, y_val,\n",
    "                conv_featmap=[32, 32, 32],\n",
    "                fc_units=[84, 84],\n",
    "                conv_kernel_size=[5, 5, 5],\n",
    "                pooling_size=[2, 2, 2],\n",
    "                l2_norm=0.0075,\n",
    "                seed=233,\n",
    "                learning_rate=0.0075,\n",
    "                epoch=20,\n",
    "                batch_size=320,\n",
    "                verbose=False)\n",
    "                # pre_trained_model=None)\n",
    "\n",
    "# prediction\n",
    "predictions = model.predict(X_test)\n",
    "predicted_labels = np.argmax(predictions, axis=1)\n",
    "\n",
    "print(\"Predicted labels for test images:\", predicted_labels)"
   ]
  },
  {
   "cell_type": "markdown",
   "metadata": {},
   "source": [
    "## Save your best model\n",
    "\n",
    "**Link to large model on Google Drive: [insert link here]**"
   ]
  },
  {
   "cell_type": "code",
   "execution_count": 11,
   "metadata": {},
   "outputs": [
    {
     "name": "stdout",
     "output_type": "stream",
     "text": [
      "INFO:tensorflow:Assets written to: ./model/task5_model/my_model_task5_tf/assets\n"
     ]
    },
    {
     "name": "stderr",
     "output_type": "stream",
     "text": [
      "INFO:tensorflow:Assets written to: ./model/task5_model/my_model_task5_tf/assets\n"
     ]
    },
    {
     "name": "stdout",
     "output_type": "stream",
     "text": [
      "Model saved in TensorFlow SavedModel format to ./model/task5_model/my_model_task5_tf\n",
      "Model weights saved to ./model/task5_model/my_model_task5_weights.h5\n"
     ]
    }
   ],
   "source": [
    "# YOUR CODE HERE\n",
    "model_save_path_tf = \"./model/task5_model/my_model_task5_tf\"\n",
    "model.save(model_save_path_tf, save_format=\"tf\")\n",
    "print(f\"Model saved in TensorFlow SavedModel format to {model_save_path_tf}\")\n",
    "\n",
    "weights_save_path = \"./model/task5_model/my_model_task5_weights.h5\"\n",
    "model.save_weights(weights_save_path)\n",
    "print(f\"Model weights saved to {weights_save_path}\")\n"
   ]
  },
  {
   "cell_type": "markdown",
   "metadata": {},
   "source": [
    "## Generate .csv file for Kaggle\n",
    "\n",
    "The following code snippet can be used to generate your prediction .csv file.\n",
    "\n",
    "NOTE: If your Kaggle results are indicating random performance, then it's likely that the indices of your csv predictions are misaligned."
   ]
  },
  {
   "cell_type": "code",
   "execution_count": 12,
   "metadata": {},
   "outputs": [],
   "source": [
    "# results_df = pd.read_csv(root + 'prediction_labels_template.csv')\n",
    "# results_df['label'] = y_pred # TODO add your predictions here\n",
    "# results_df.to_csv(root + 'kaggle_predicted.csv', index=False) # Upload this file\n",
    "# results_df\n",
    "y_pred = [int(tf.argmax(pred).numpy()) for pred in predictions]\n",
    "results_df = pd.DataFrame({'Id': [f\"{index:05}.png\" for index in range(len(y_pred))], 'label': y_pred})\n",
    "results_df.to_csv('kaggle_predicted.csv', index=False)"
   ]
  },
  {
   "cell_type": "code",
   "execution_count": 15,
   "metadata": {},
   "outputs": [
    {
     "name": "stdout",
     "output_type": "stream",
     "text": [
      "Feel free to check codes in my_model_LeNet.py !\n"
     ]
    }
   ],
   "source": [
    "print('Feel free to check codes in my_model_LeNet.py !')"
   ]
  },
  {
   "cell_type": "code",
   "execution_count": null,
   "metadata": {},
   "outputs": [],
   "source": []
  }
 ],
 "metadata": {
  "kernelspec": {
   "display_name": "Python 3",
   "language": "python",
   "name": "python3"
  },
  "language_info": {
   "codemirror_mode": {
    "name": "ipython",
    "version": 3
   },
   "file_extension": ".py",
   "mimetype": "text/x-python",
   "name": "python",
   "nbconvert_exporter": "python",
   "pygments_lexer": "ipython3",
   "version": "3.6.9"
  },
  "vscode": {
   "interpreter": {
    "hash": "b0fa6594d8f4cbf19f97940f81e996739fb7646882a419484c72d19e05852a7e"
   }
  }
 },
 "nbformat": 4,
 "nbformat_minor": 4
}
